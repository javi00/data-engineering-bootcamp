{
 "cells": [
  {
   "cell_type": "markdown",
   "id": "aaae5e73",
   "metadata": {
    "papermill": {
     "duration": 0.022061,
     "end_time": "2021-10-03T03:47:13.384618",
     "exception": false,
     "start_time": "2021-10-03T03:47:13.362557",
     "status": "completed"
    },
    "tags": []
   },
   "source": [
    "# Data Challenge - Wiziline\n",
    "####  by Javier Vallejos Escobar,   jvevallejos@gmail.com"
   ]
  },
  {
   "cell_type": "markdown",
   "id": "c2544089",
   "metadata": {
    "papermill": {
     "duration": 0.018076,
     "end_time": "2021-10-03T03:47:13.421387",
     "exception": false,
     "start_time": "2021-10-03T03:47:13.403311",
     "status": "completed"
    },
    "tags": []
   },
   "source": [
    "## EDA"
   ]
  },
  {
   "cell_type": "code",
   "execution_count": 1,
   "id": "a31009bc",
   "metadata": {
    "execution": {
     "iopub.execute_input": "2021-10-03T03:47:13.472025Z",
     "iopub.status.busy": "2021-10-03T03:47:13.471132Z",
     "iopub.status.idle": "2021-10-03T03:47:53.734870Z",
     "shell.execute_reply": "2021-10-03T03:47:53.734141Z",
     "shell.execute_reply.started": "2021-10-03T02:35:59.243408Z"
    },
    "papermill": {
     "duration": 40.295242,
     "end_time": "2021-10-03T03:47:53.735046",
     "exception": false,
     "start_time": "2021-10-03T03:47:13.439804",
     "status": "completed"
    },
    "tags": []
   },
   "outputs": [
    {
     "name": "stdout",
     "output_type": "stream",
     "text": [
      "Collecting pyspark\r\n",
      "  Downloading pyspark-3.1.2.tar.gz (212.4 MB)\r\n",
      "\u001b[K     |████████████████████████████████| 212.4 MB 59 kB/s \r\n",
      "\u001b[?25hCollecting py4j==0.10.9\r\n",
      "  Downloading py4j-0.10.9-py2.py3-none-any.whl (198 kB)\r\n",
      "\u001b[K     |████████████████████████████████| 198 kB 67.9 MB/s \r\n",
      "\u001b[?25hBuilding wheels for collected packages: pyspark\r\n",
      "  Building wheel for pyspark (setup.py) ... \u001b[?25l-\b \b\\\b \b|\b \b/\b \b-\b \b\\\b \b|\b \b/\b \b-\b \b\\\b \b|\b \b/\b \b-\b \b\\\b \b|\b \b/\b \b-\b \b\\\b \b|\b \b/\b \b-\b \b\\\b \b|\b \b/\b \b-\b \b\\\b \b|\b \b/\b \b-\b \b\\\b \b|\b \b/\b \b-\b \b\\\b \b|\b \b/\b \b-\b \b\\\b \b|\b \b/\b \b-\b \b\\\b \b|\b \b/\b \b-\b \b\\\b \b|\b \b/\b \b-\b \b\\\b \b|\b \b/\b \b-\b \b\\\b \b|\b \b/\b \b-\b \b\\\b \b|\b \b/\b \bdone\r\n",
      "\u001b[?25h  Created wheel for pyspark: filename=pyspark-3.1.2-py2.py3-none-any.whl size=212880768 sha256=2f787adf35372fee54db821719ddfd92df36e244bf87bc496dea204161381e1b\r\n",
      "  Stored in directory: /root/.cache/pip/wheels/a5/0a/c1/9561f6fecb759579a7d863dcd846daaa95f598744e71b02c77\r\n",
      "Successfully built pyspark\r\n",
      "Installing collected packages: py4j, pyspark\r\n",
      "Successfully installed py4j-0.10.9 pyspark-3.1.2\r\n",
      "\u001b[33mWARNING: Running pip as the 'root' user can result in broken permissions and conflicting behaviour with the system package manager. It is recommended to use a virtual environment instead: https://pip.pypa.io/warnings/venv\u001b[0m\r\n"
     ]
    }
   ],
   "source": [
    "!pip install pyspark"
   ]
  },
  {
   "cell_type": "code",
   "execution_count": 2,
   "id": "183ad8e9",
   "metadata": {
    "execution": {
     "iopub.execute_input": "2021-10-03T03:47:54.117610Z",
     "iopub.status.busy": "2021-10-03T03:47:54.116861Z",
     "iopub.status.idle": "2021-10-03T03:48:01.514227Z",
     "shell.execute_reply": "2021-10-03T03:48:01.515641Z",
     "shell.execute_reply.started": "2021-10-03T02:39:39.995221Z"
    },
    "papermill": {
     "duration": 7.596972,
     "end_time": "2021-10-03T03:48:01.516213",
     "exception": false,
     "start_time": "2021-10-03T03:47:53.919241",
     "status": "completed"
    },
    "tags": []
   },
   "outputs": [
    {
     "name": "stderr",
     "output_type": "stream",
     "text": [
      "WARNING: An illegal reflective access operation has occurred\n",
      "WARNING: Illegal reflective access by org.apache.spark.unsafe.Platform (file:/opt/conda/lib/python3.7/site-packages/pyspark/jars/spark-unsafe_2.12-3.1.2.jar) to constructor java.nio.DirectByteBuffer(long,int)\n",
      "WARNING: Please consider reporting this to the maintainers of org.apache.spark.unsafe.Platform\n",
      "WARNING: Use --illegal-access=warn to enable warnings of further illegal reflective access operations\n",
      "WARNING: All illegal access operations will be denied in a future release\n",
      "21/10/03 03:47:57 WARN NativeCodeLoader: Unable to load native-hadoop library for your platform... using builtin-java classes where applicable\n",
      "Using Spark's default log4j profile: org/apache/spark/log4j-defaults.properties\n",
      "Setting default log level to \"WARN\".\n",
      "To adjust logging level use sc.setLogLevel(newLevel). For SparkR, use setLogLevel(newLevel).\n"
     ]
    },
    {
     "data": {
      "text/html": [
       "\n",
       "            <div>\n",
       "                <p><b>SparkSession - in-memory</b></p>\n",
       "                \n",
       "        <div>\n",
       "            <p><b>SparkContext</b></p>\n",
       "\n",
       "            <p><a href=\"http://812642cf62f1:4040\">Spark UI</a></p>\n",
       "\n",
       "            <dl>\n",
       "              <dt>Version</dt>\n",
       "                <dd><code>v3.1.2</code></dd>\n",
       "              <dt>Master</dt>\n",
       "                <dd><code>local[*]</code></dd>\n",
       "              <dt>AppName</dt>\n",
       "                <dd><code>spark-data-challenge</code></dd>\n",
       "            </dl>\n",
       "        </div>\n",
       "        \n",
       "            </div>\n",
       "        "
      ],
      "text/plain": [
       "<pyspark.sql.session.SparkSession at 0x7fa8387ded10>"
      ]
     },
     "execution_count": 2,
     "metadata": {},
     "output_type": "execute_result"
    }
   ],
   "source": [
    "from pyspark import SparkContext\n",
    "from pyspark.sql import SparkSession\n",
    "from pyspark.sql.functions import isnan, when, count, col,row_number\n",
    "from pyspark.sql.window import Window\n",
    "\n",
    "spark = SparkSession.builder.appName('spark-data-challenge').getOrCreate()\n",
    "spark"
   ]
  },
  {
   "cell_type": "code",
   "execution_count": 3,
   "id": "4a1afcfa",
   "metadata": {
    "execution": {
     "iopub.execute_input": "2021-10-03T03:48:01.927005Z",
     "iopub.status.busy": "2021-10-03T03:48:01.924997Z",
     "iopub.status.idle": "2021-10-03T03:50:33.035999Z",
     "shell.execute_reply": "2021-10-03T03:50:33.035059Z",
     "shell.execute_reply.started": "2021-10-03T02:36:44.238398Z"
    },
    "papermill": {
     "duration": 151.31516,
     "end_time": "2021-10-03T03:50:33.036344",
     "exception": false,
     "start_time": "2021-10-03T03:48:01.721184",
     "status": "completed"
    },
    "tags": []
   },
   "outputs": [
    {
     "name": "stderr",
     "output_type": "stream",
     "text": [
      "[Stage 1:======================================================>(153 + 1) / 154]\r"
     ]
    },
    {
     "name": "stdout",
     "output_type": "stream",
     "text": [
      "CPU times: user 173 ms, sys: 40.1 ms, total: 213 ms\n",
      "Wall time: 2min 31s\n"
     ]
    },
    {
     "name": "stderr",
     "output_type": "stream",
     "text": [
      "                                                                                \r"
     ]
    }
   ],
   "source": [
    "%%time\n",
    "import pandas as pd\n",
    "df = spark.read.csv('../input/profeco-wize/profeco/all_data.csv',header = True,inferSchema=True)\n",
    "# df = spark.read.csv('../input/profeco-wize/sample.csv',header = True,inferSchema=True)"
   ]
  },
  {
   "cell_type": "code",
   "execution_count": 4,
   "id": "9632c426",
   "metadata": {
    "execution": {
     "iopub.execute_input": "2021-10-03T03:50:33.378710Z",
     "iopub.status.busy": "2021-10-03T03:50:33.377699Z",
     "iopub.status.idle": "2021-10-03T03:51:42.200047Z",
     "shell.execute_reply": "2021-10-03T03:51:42.200530Z",
     "shell.execute_reply.started": "2021-10-02T16:05:42.380210Z"
    },
    "papermill": {
     "duration": 68.992437,
     "end_time": "2021-10-03T03:51:42.200745",
     "exception": false,
     "start_time": "2021-10-03T03:50:33.208308",
     "status": "completed"
    },
    "tags": []
   },
   "outputs": [
    {
     "name": "stderr",
     "output_type": "stream",
     "text": [
      "[Stage 2:======================================================>(152 + 2) / 154]\r"
     ]
    },
    {
     "name": "stdout",
     "output_type": "stream",
     "text": [
      "Shape :  (62530715, 15)\n"
     ]
    },
    {
     "name": "stderr",
     "output_type": "stream",
     "text": [
      "                                                                                \r"
     ]
    }
   ],
   "source": [
    "# shape of the df\n",
    "print(\"Shape : \",(df.count(), len(df.columns)))"
   ]
  },
  {
   "cell_type": "code",
   "execution_count": 5,
   "id": "caf61794",
   "metadata": {
    "execution": {
     "iopub.execute_input": "2021-10-03T03:51:42.562220Z",
     "iopub.status.busy": "2021-10-03T03:51:42.561531Z",
     "iopub.status.idle": "2021-10-03T03:51:42.858410Z",
     "shell.execute_reply": "2021-10-03T03:51:42.859200Z",
     "shell.execute_reply.started": "2021-10-02T16:07:17.235100Z"
    },
    "papermill": {
     "duration": 0.479602,
     "end_time": "2021-10-03T03:51:42.859455",
     "exception": false,
     "start_time": "2021-10-03T03:51:42.379853",
     "status": "completed"
    },
    "tags": []
   },
   "outputs": [
    {
     "data": {
      "text/html": [
       "<div>\n",
       "<style scoped>\n",
       "    .dataframe tbody tr th:only-of-type {\n",
       "        vertical-align: middle;\n",
       "    }\n",
       "\n",
       "    .dataframe tbody tr th {\n",
       "        vertical-align: top;\n",
       "    }\n",
       "\n",
       "    .dataframe thead th {\n",
       "        text-align: right;\n",
       "    }\n",
       "</style>\n",
       "<table border=\"1\" class=\"dataframe\">\n",
       "  <thead>\n",
       "    <tr style=\"text-align: right;\">\n",
       "      <th></th>\n",
       "      <th>producto</th>\n",
       "      <th>presentacion</th>\n",
       "      <th>marca</th>\n",
       "      <th>categoria</th>\n",
       "      <th>catalogo</th>\n",
       "      <th>precio</th>\n",
       "      <th>fechaRegistro</th>\n",
       "      <th>cadenaComercial</th>\n",
       "      <th>giro</th>\n",
       "      <th>nombreComercial</th>\n",
       "      <th>direccion</th>\n",
       "      <th>estado</th>\n",
       "      <th>municipio</th>\n",
       "      <th>latitud</th>\n",
       "      <th>longitud</th>\n",
       "    </tr>\n",
       "  </thead>\n",
       "  <tbody>\n",
       "    <tr>\n",
       "      <th>0</th>\n",
       "      <td>CUADERNO FORMA ITALIANA</td>\n",
       "      <td>96 HOJAS PASTA DURA. CUADRICULA CHICA</td>\n",
       "      <td>ESTRELLA</td>\n",
       "      <td>MATERIAL ESCOLAR</td>\n",
       "      <td>UTILES ESCOLARES</td>\n",
       "      <td>25.9</td>\n",
       "      <td>2011-05-18 00:00:00.000</td>\n",
       "      <td>ABASTECEDORA LUMEN</td>\n",
       "      <td>PAPELERIAS</td>\n",
       "      <td>ABASTECEDORA LUMEN SUCURSAL VILLA COAPA</td>\n",
       "      <td>CANNES No. 6 ESQ. CANAL DE MIRAMONTES</td>\n",
       "      <td>DISTRITO FEDERAL</td>\n",
       "      <td>TLALPAN</td>\n",
       "      <td>19.29699</td>\n",
       "      <td>-99.125417</td>\n",
       "    </tr>\n",
       "    <tr>\n",
       "      <th>1</th>\n",
       "      <td>CRAYONES</td>\n",
       "      <td>CAJA 12 CERAS. JUMBO. C.B. 201423</td>\n",
       "      <td>CRAYOLA</td>\n",
       "      <td>MATERIAL ESCOLAR</td>\n",
       "      <td>UTILES ESCOLARES</td>\n",
       "      <td>27.5</td>\n",
       "      <td>2011-05-18 00:00:00.000</td>\n",
       "      <td>ABASTECEDORA LUMEN</td>\n",
       "      <td>PAPELERIAS</td>\n",
       "      <td>ABASTECEDORA LUMEN SUCURSAL VILLA COAPA</td>\n",
       "      <td>CANNES No. 6 ESQ. CANAL DE MIRAMONTES</td>\n",
       "      <td>DISTRITO FEDERAL</td>\n",
       "      <td>TLALPAN</td>\n",
       "      <td>19.29699</td>\n",
       "      <td>-99.125417</td>\n",
       "    </tr>\n",
       "    <tr>\n",
       "      <th>2</th>\n",
       "      <td>CRAYONES</td>\n",
       "      <td>CAJA 12 CERAS. TAMANO REGULAR C.B. 201034</td>\n",
       "      <td>CRAYOLA</td>\n",
       "      <td>MATERIAL ESCOLAR</td>\n",
       "      <td>UTILES ESCOLARES</td>\n",
       "      <td>13.9</td>\n",
       "      <td>2011-05-18 00:00:00.000</td>\n",
       "      <td>ABASTECEDORA LUMEN</td>\n",
       "      <td>PAPELERIAS</td>\n",
       "      <td>ABASTECEDORA LUMEN SUCURSAL VILLA COAPA</td>\n",
       "      <td>CANNES No. 6 ESQ. CANAL DE MIRAMONTES</td>\n",
       "      <td>DISTRITO FEDERAL</td>\n",
       "      <td>TLALPAN</td>\n",
       "      <td>19.29699</td>\n",
       "      <td>-99.125417</td>\n",
       "    </tr>\n",
       "  </tbody>\n",
       "</table>\n",
       "</div>"
      ],
      "text/plain": [
       "                  producto                               presentacion  \\\n",
       "0  CUADERNO FORMA ITALIANA      96 HOJAS PASTA DURA. CUADRICULA CHICA   \n",
       "1                 CRAYONES          CAJA 12 CERAS. JUMBO. C.B. 201423   \n",
       "2                 CRAYONES  CAJA 12 CERAS. TAMANO REGULAR C.B. 201034   \n",
       "\n",
       "      marca         categoria          catalogo  precio  \\\n",
       "0  ESTRELLA  MATERIAL ESCOLAR  UTILES ESCOLARES    25.9   \n",
       "1   CRAYOLA  MATERIAL ESCOLAR  UTILES ESCOLARES    27.5   \n",
       "2   CRAYOLA  MATERIAL ESCOLAR  UTILES ESCOLARES    13.9   \n",
       "\n",
       "             fechaRegistro     cadenaComercial        giro  \\\n",
       "0  2011-05-18 00:00:00.000  ABASTECEDORA LUMEN  PAPELERIAS   \n",
       "1  2011-05-18 00:00:00.000  ABASTECEDORA LUMEN  PAPELERIAS   \n",
       "2  2011-05-18 00:00:00.000  ABASTECEDORA LUMEN  PAPELERIAS   \n",
       "\n",
       "                           nombreComercial  \\\n",
       "0  ABASTECEDORA LUMEN SUCURSAL VILLA COAPA   \n",
       "1  ABASTECEDORA LUMEN SUCURSAL VILLA COAPA   \n",
       "2  ABASTECEDORA LUMEN SUCURSAL VILLA COAPA   \n",
       "\n",
       "                               direccion            estado  \\\n",
       "0  CANNES No. 6 ESQ. CANAL DE MIRAMONTES  DISTRITO FEDERAL   \n",
       "1  CANNES No. 6 ESQ. CANAL DE MIRAMONTES  DISTRITO FEDERAL   \n",
       "2  CANNES No. 6 ESQ. CANAL DE MIRAMONTES  DISTRITO FEDERAL   \n",
       "\n",
       "                                  municipio   latitud    longitud  \n",
       "0  TLALPAN                                   19.29699  -99.125417  \n",
       "1  TLALPAN                                   19.29699  -99.125417  \n",
       "2  TLALPAN                                   19.29699  -99.125417  "
      ]
     },
     "execution_count": 5,
     "metadata": {},
     "output_type": "execute_result"
    }
   ],
   "source": [
    "df.limit(3).toPandas()"
   ]
  },
  {
   "cell_type": "code",
   "execution_count": 6,
   "id": "27a41079",
   "metadata": {
    "execution": {
     "iopub.execute_input": "2021-10-03T03:51:43.245360Z",
     "iopub.status.busy": "2021-10-03T03:51:43.244616Z",
     "iopub.status.idle": "2021-10-03T03:51:43.250086Z",
     "shell.execute_reply": "2021-10-03T03:51:43.250587Z",
     "shell.execute_reply.started": "2021-10-02T16:07:17.307395Z"
    },
    "papermill": {
     "duration": 0.192546,
     "end_time": "2021-10-03T03:51:43.250759",
     "exception": false,
     "start_time": "2021-10-03T03:51:43.058213",
     "status": "completed"
    },
    "tags": []
   },
   "outputs": [
    {
     "name": "stdout",
     "output_type": "stream",
     "text": [
      "root\n",
      " |-- producto: string (nullable = true)\n",
      " |-- presentacion: string (nullable = true)\n",
      " |-- marca: string (nullable = true)\n",
      " |-- categoria: string (nullable = true)\n",
      " |-- catalogo: string (nullable = true)\n",
      " |-- precio: double (nullable = true)\n",
      " |-- fechaRegistro: string (nullable = true)\n",
      " |-- cadenaComercial: string (nullable = true)\n",
      " |-- giro: string (nullable = true)\n",
      " |-- nombreComercial: string (nullable = true)\n",
      " |-- direccion: string (nullable = true)\n",
      " |-- estado: string (nullable = true)\n",
      " |-- municipio: string (nullable = true)\n",
      " |-- latitud: string (nullable = true)\n",
      " |-- longitud: string (nullable = true)\n",
      "\n"
     ]
    }
   ],
   "source": [
    "df.printSchema()"
   ]
  },
  {
   "cell_type": "markdown",
   "id": "ce2f665a",
   "metadata": {
    "papermill": {
     "duration": 0.18022,
     "end_time": "2021-10-03T03:51:43.611560",
     "exception": false,
     "start_time": "2021-10-03T03:51:43.431340",
     "status": "completed"
    },
    "tags": []
   },
   "source": [
    "## 1. How many commercial chains are monitored, and therefore, included in this database?"
   ]
  },
  {
   "cell_type": "code",
   "execution_count": 7,
   "id": "db37d909",
   "metadata": {
    "execution": {
     "iopub.execute_input": "2021-10-03T03:51:43.971132Z",
     "iopub.status.busy": "2021-10-03T03:51:43.970465Z",
     "iopub.status.idle": "2021-10-03T03:53:38.560243Z",
     "shell.execute_reply": "2021-10-03T03:53:38.561108Z",
     "shell.execute_reply.started": "2021-10-02T16:08:36.954547Z"
    },
    "papermill": {
     "duration": 114.772252,
     "end_time": "2021-10-03T03:53:38.561508",
     "exception": false,
     "start_time": "2021-10-03T03:51:43.789256",
     "status": "completed"
    },
    "tags": []
   },
   "outputs": [
    {
     "name": "stderr",
     "output_type": "stream",
     "text": [
      "                                                                                \r"
     ]
    },
    {
     "data": {
      "text/plain": [
       "706"
      ]
     },
     "execution_count": 7,
     "metadata": {},
     "output_type": "execute_result"
    }
   ],
   "source": [
    "df.select(\"cadenaComercial\").distinct().count() "
   ]
  },
  {
   "cell_type": "markdown",
   "id": "d2b53bf3",
   "metadata": {
    "papermill": {
     "duration": 0.211206,
     "end_time": "2021-10-03T03:53:38.983645",
     "exception": false,
     "start_time": "2021-10-03T03:53:38.772439",
     "status": "completed"
    },
    "tags": []
   },
   "source": [
    "## 2. What are the top 10 monitored products by State?"
   ]
  },
  {
   "cell_type": "code",
   "execution_count": 8,
   "id": "f06a5f29",
   "metadata": {
    "execution": {
     "iopub.execute_input": "2021-10-03T03:53:39.401024Z",
     "iopub.status.busy": "2021-10-03T03:53:39.400008Z",
     "iopub.status.idle": "2021-10-03T03:55:45.090331Z",
     "shell.execute_reply": "2021-10-03T03:55:45.089426Z",
     "shell.execute_reply.started": "2021-10-03T02:40:15.731898Z"
    },
    "papermill": {
     "duration": 125.900163,
     "end_time": "2021-10-03T03:55:45.090623",
     "exception": false,
     "start_time": "2021-10-03T03:53:39.190460",
     "status": "completed"
    },
    "tags": []
   },
   "outputs": [
    {
     "name": "stderr",
     "output_type": "stream",
     "text": [
      "[Stage 9:===================================================>   (186 + 4) / 200]\r"
     ]
    },
    {
     "name": "stdout",
     "output_type": "stream",
     "text": [
      "+----------------+--------------------+------+\n",
      "|          estado|            producto| count|\n",
      "+----------------+--------------------+------+\n",
      "|DISTRITO FEDERAL|            REFRESCO|287463|\n",
      "|DISTRITO FEDERAL|                 FUD|207569|\n",
      "|          MÉXICO|            REFRESCO|194939|\n",
      "|DISTRITO FEDERAL|LECHE ULTRAPASTEU...|175640|\n",
      "|DISTRITO FEDERAL|   DETERGENTE P/ROPA|173452|\n",
      "|          MÉXICO|                 FUD|149141|\n",
      "|DISTRITO FEDERAL|             YOGHURT|136720|\n",
      "|DISTRITO FEDERAL|             CERVEZA|136686|\n",
      "|          MÉXICO|   DETERGENTE P/ROPA|132862|\n",
      "|DISTRITO FEDERAL|            MAYONESA|131103|\n",
      "|DISTRITO FEDERAL|      CHILES EN LATA|130598|\n",
      "|DISTRITO FEDERAL|    JABON DE TOCADOR|129889|\n",
      "|DISTRITO FEDERAL|             SHAMPOO|125603|\n",
      "|DISTRITO FEDERAL|      LECHE EN POLVO|116827|\n",
      "|          MÉXICO|LECHE ULTRAPASTEU...|116522|\n",
      "|DISTRITO FEDERAL|         DESODORANTE|113779|\n",
      "|DISTRITO FEDERAL|               HUEVO|111412|\n",
      "|DISTRITO FEDERAL|     TOALLA FEMENINA|102356|\n",
      "|DISTRITO FEDERAL|           MARGARINA| 98235|\n",
      "|          MÉXICO|    JABON DE TOCADOR| 97330|\n",
      "+----------------+--------------------+------+\n",
      "only showing top 20 rows\n",
      "\n"
     ]
    },
    {
     "name": "stderr",
     "output_type": "stream",
     "text": [
      "                                                                                \r"
     ]
    }
   ],
   "source": [
    "aux = df.groupBy(\"estado\",\"producto\").count().orderBy(\"count\", ascending=False)\n",
    "aux.show()"
   ]
  },
  {
   "cell_type": "code",
   "execution_count": 9,
   "id": "f2ccfe62",
   "metadata": {
    "execution": {
     "iopub.execute_input": "2021-10-03T03:55:45.565831Z",
     "iopub.status.busy": "2021-10-03T03:55:45.561546Z",
     "iopub.status.idle": "2021-10-03T03:57:55.122291Z",
     "shell.execute_reply": "2021-10-03T03:57:55.121370Z",
     "shell.execute_reply.started": "2021-10-03T02:46:50.575357Z"
    },
    "papermill": {
     "duration": 129.796188,
     "end_time": "2021-10-03T03:57:55.122520",
     "exception": false,
     "start_time": "2021-10-03T03:55:45.326332",
     "status": "completed"
    },
    "tags": []
   },
   "outputs": [
    {
     "name": "stderr",
     "output_type": "stream",
     "text": [
      "[Stage 15:=================================================>    (185 + 5) / 200]\r"
     ]
    },
    {
     "name": "stdout",
     "output_type": "stream",
     "text": [
      "+---------+--------------------+-----+----+\n",
      "|   estado|            producto|count|rank|\n",
      "+---------+--------------------+-----+----+\n",
      "|   estado|            producto|   20|   1|\n",
      "|ZACATECAS|   DETERGENTE P/ROPA|20884|   1|\n",
      "|ZACATECAS|LECHE ULTRAPASTEU...|17309|   2|\n",
      "|ZACATECAS|           LAVADORAS|16072|   3|\n",
      "|ZACATECAS|            MAYONESA|15927|   4|\n",
      "|ZACATECAS|    JABON DE TOCADOR|15926|   5|\n",
      "|ZACATECAS|                 FUD|15541|   6|\n",
      "|ZACATECAS|             SHAMPOO|15012|   7|\n",
      "|ZACATECAS|      CHILES EN LATA|14866|   8|\n",
      "|ZACATECAS|COMPONENTES DE AUDIO|14799|   9|\n",
      "|ZACATECAS|            REFRESCO|13925|  10|\n",
      "|  YUCATÁN|LECHE ULTRAPASTEU...|35991|   1|\n",
      "|  YUCATÁN|   DETERGENTE P/ROPA|33390|   2|\n",
      "|  YUCATÁN|            REFRESCO|33235|   3|\n",
      "|  YUCATÁN|                 FUD|31885|   4|\n",
      "|  YUCATÁN|           LAVADORAS|27013|   5|\n",
      "|  YUCATÁN|      CHILES EN LATA|24472|   6|\n",
      "|  YUCATÁN|            MAYONESA|23629|   7|\n",
      "|  YUCATÁN|             SHAMPOO|23433|   8|\n",
      "|  YUCATÁN|            PLANCHAS|22816|   9|\n",
      "+---------+--------------------+-----+----+\n",
      "only showing top 20 rows\n",
      "\n"
     ]
    },
    {
     "name": "stderr",
     "output_type": "stream",
     "text": [
      "                                                                                \r"
     ]
    }
   ],
   "source": [
    "w = Window.partitionBy(\"estado\").orderBy(aux['count'].desc())\n",
    "\n",
    "top10 = aux.select('*', row_number().over(w).alias('rank')).filter(col('rank') <= 10)\n",
    "\n",
    "top10.sort(col(\"estado\").desc(), col(\"count\").desc()).show()\n",
    "\n",
    "# top10.orderBy(\"estado\",\"count\", ascending=False).show()"
   ]
  },
  {
   "cell_type": "code",
   "execution_count": 10,
   "id": "dd6033f6",
   "metadata": {
    "execution": {
     "iopub.execute_input": "2021-10-03T03:57:55.698061Z",
     "iopub.status.busy": "2021-10-03T03:57:55.696072Z",
     "iopub.status.idle": "2021-10-03T03:59:56.767963Z",
     "shell.execute_reply": "2021-10-03T03:59:56.767020Z",
     "shell.execute_reply.started": "2021-10-03T02:49:16.234126Z"
    },
    "papermill": {
     "duration": 121.349717,
     "end_time": "2021-10-03T03:59:56.768245",
     "exception": false,
     "start_time": "2021-10-03T03:57:55.418528",
     "status": "completed"
    },
    "tags": []
   },
   "outputs": [
    {
     "name": "stderr",
     "output_type": "stream",
     "text": [
      "                                                                                \r"
     ]
    },
    {
     "name": "stdout",
     "output_type": "stream",
     "text": [
      "+----------------+--------------------+------+----+\n",
      "|          estado|            producto| count|rank|\n",
      "+----------------+--------------------+------+----+\n",
      "|DISTRITO FEDERAL|            REFRESCO|287463|   1|\n",
      "|DISTRITO FEDERAL|                 FUD|207569|   2|\n",
      "|DISTRITO FEDERAL|LECHE ULTRAPASTEU...|175640|   3|\n",
      "|DISTRITO FEDERAL|   DETERGENTE P/ROPA|173452|   4|\n",
      "|DISTRITO FEDERAL|             YOGHURT|136720|   5|\n",
      "|DISTRITO FEDERAL|             CERVEZA|136686|   6|\n",
      "|DISTRITO FEDERAL|            MAYONESA|131103|   7|\n",
      "|DISTRITO FEDERAL|      CHILES EN LATA|130598|   8|\n",
      "|DISTRITO FEDERAL|    JABON DE TOCADOR|129889|   9|\n",
      "|DISTRITO FEDERAL|             SHAMPOO|125603|  10|\n",
      "+----------------+--------------------+------+----+\n",
      "\n"
     ]
    }
   ],
   "source": [
    "top10.filter(col(\"estado\").contains(\"DISTRITO FEDERAL\")).show()"
   ]
  },
  {
   "cell_type": "markdown",
   "id": "78fb3123",
   "metadata": {
    "papermill": {
     "duration": 0.388824,
     "end_time": "2021-10-03T03:59:57.467165",
     "exception": false,
     "start_time": "2021-10-03T03:59:57.078341",
     "status": "completed"
    },
    "tags": []
   },
   "source": [
    "## 3. Which is the commercial chain with the highest number of monitored products?"
   ]
  },
  {
   "cell_type": "code",
   "execution_count": 11,
   "id": "457c2a41",
   "metadata": {
    "execution": {
     "iopub.execute_input": "2021-10-03T03:59:58.070756Z",
     "iopub.status.busy": "2021-10-03T03:59:58.070057Z",
     "iopub.status.idle": "2021-10-03T04:02:03.430108Z",
     "shell.execute_reply": "2021-10-03T04:02:03.430919Z",
     "shell.execute_reply.started": "2021-10-03T02:51:15.993288Z"
    },
    "papermill": {
     "duration": 125.664773,
     "end_time": "2021-10-03T04:02:03.431196",
     "exception": false,
     "start_time": "2021-10-03T03:59:57.766423",
     "status": "completed"
    },
    "tags": []
   },
   "outputs": [
    {
     "name": "stderr",
     "output_type": "stream",
     "text": [
      "[Stage 40:==================================>                   (129 + 4) / 200]\r"
     ]
    },
    {
     "name": "stdout",
     "output_type": "stream",
     "text": [
      "+--------------------+-----+\n",
      "|     cadenaComercial|count|\n",
      "+--------------------+-----+\n",
      "|             SORIANA| 1059|\n",
      "|            WAL-MART| 1051|\n",
      "|MEGA COMERCIAL ME...| 1049|\n",
      "|  COMERCIAL MEXICANA| 1036|\n",
      "|            CHEDRAUI| 1026|\n",
      "|     MERCADO SORIANA| 1024|\n",
      "|      BODEGA AURRERA| 1012|\n",
      "|HIPERMERCADO SORIANA| 1006|\n",
      "|              H.E.B.| 1001|\n",
      "|        SORIANA PLUS|  999|\n",
      "|       SORIANA SUPER|  996|\n",
      "|BODEGA COMERCIAL ...|  979|\n",
      "|        I.S.S.S.T.E.|  937|\n",
      "|            SUPERAMA|  936|\n",
      "|              S MART|  851|\n",
      "|SUPERMERCADOS SAN...|  849|\n",
      "|              SUMESA|  848|\n",
      "|         CITY MARKET|  844|\n",
      "|FARMACIA GUADALAJARA|  819|\n",
      "|            CASA LEY|  808|\n",
      "+--------------------+-----+\n",
      "only showing top 20 rows\n",
      "\n"
     ]
    },
    {
     "name": "stderr",
     "output_type": "stream",
     "text": [
      "                                                                                \r"
     ]
    }
   ],
   "source": [
    "df.select(\"cadenaComercial\",\"producto\").distinct().groupBy(\"cadenaComercial\").count()\\\n",
    "                                       .orderBy(\"count\", ascending=False).show()"
   ]
  },
  {
   "cell_type": "code",
   "execution_count": 12,
   "id": "0d866cd4",
   "metadata": {
    "execution": {
     "iopub.execute_input": "2021-10-03T04:02:04.103147Z",
     "iopub.status.busy": "2021-10-03T04:02:04.102407Z",
     "iopub.status.idle": "2021-10-03T04:02:04.171214Z",
     "shell.execute_reply": "2021-10-03T04:02:04.170610Z",
     "shell.execute_reply.started": "2021-10-03T02:53:32.755868Z"
    },
    "papermill": {
     "duration": 0.405471,
     "end_time": "2021-10-03T04:02:04.171372",
     "exception": false,
     "start_time": "2021-10-03T04:02:03.765901",
     "status": "completed"
    },
    "tags": []
   },
   "outputs": [],
   "source": [
    "aux = df.groupBy(\"cadenaComercial\",\"producto\").count()\n",
    "\n",
    "w = Window.partitionBy(\"cadenaComercial\").orderBy(aux['count'].desc())\n",
    "\n",
    "HighestbyC = aux.select('*', row_number().over(w).alias('rank')).filter(col('rank') <= 10)\n",
    "\n",
    "# HighestbyC.orderBy(\"count\", ascending=False).show()"
   ]
  },
  {
   "cell_type": "markdown",
   "id": "a2c17b7d",
   "metadata": {
    "papermill": {
     "duration": 0.331169,
     "end_time": "2021-10-03T04:02:04.836295",
     "exception": false,
     "start_time": "2021-10-03T04:02:04.505126",
     "status": "completed"
    },
    "tags": []
   },
   "source": [
    "Top 10 products of the comertial chain with more products monitored"
   ]
  },
  {
   "cell_type": "code",
   "execution_count": 13,
   "id": "550ff385",
   "metadata": {
    "execution": {
     "iopub.execute_input": "2021-10-03T04:02:05.514301Z",
     "iopub.status.busy": "2021-10-03T04:02:05.513625Z",
     "iopub.status.idle": "2021-10-03T04:03:52.919622Z",
     "shell.execute_reply": "2021-10-03T04:03:52.920621Z",
     "shell.execute_reply.started": "2021-10-03T02:53:32.816044Z"
    },
    "papermill": {
     "duration": 107.74397,
     "end_time": "2021-10-03T04:03:52.920931",
     "exception": false,
     "start_time": "2021-10-03T04:02:05.176961",
     "status": "completed"
    },
    "tags": []
   },
   "outputs": [
    {
     "name": "stderr",
     "output_type": "stream",
     "text": [
      "                                                                                \r"
     ]
    },
    {
     "name": "stdout",
     "output_type": "stream",
     "text": [
      "+--------------------+--------------------+------+----+\n",
      "|     cadenaComercial|            producto| count|rank|\n",
      "+--------------------+--------------------+------+----+\n",
      "|MERCADO EXPRESS S...|            REFRESCO|   709|   1|\n",
      "|MERCADO EXPRESS S...|   DETERGENTE P/ROPA|   634|   2|\n",
      "|MERCADO EXPRESS S...|LECHE ULTRAPASTEU...|   526|   3|\n",
      "|MERCADO EXPRESS S...|     TOALLA FEMENINA|   444|   4|\n",
      "|MERCADO EXPRESS S...|    JABON DE TOCADOR|   427|   5|\n",
      "|MERCADO EXPRESS S...|             SHAMPOO|   381|   6|\n",
      "|MERCADO EXPRESS S...|             CERVEZA|   340|   7|\n",
      "|MERCADO EXPRESS S...|             YOGHURT|   334|   8|\n",
      "|MERCADO EXPRESS S...|              ACEITE|   334|   9|\n",
      "|MERCADO EXPRESS S...|            MAYONESA|   333|  10|\n",
      "|             SORIANA|            REFRESCO|128758|   1|\n",
      "|             SORIANA|                 FUD|120610|   2|\n",
      "|             SORIANA|   DETERGENTE P/ROPA|116610|   3|\n",
      "|             SORIANA|             SHAMPOO| 94481|   4|\n",
      "|             SORIANA|    JABON DE TOCADOR| 89387|   5|\n",
      "|             SORIANA|      CHILES EN LATA| 83658|   6|\n",
      "|             SORIANA|            MAYONESA| 80554|   7|\n",
      "|             SORIANA|LECHE ULTRAPASTEU...| 80246|   8|\n",
      "|             SORIANA|         DESODORANTE| 77202|   9|\n",
      "|             SORIANA|             YOGHURT| 71594|  10|\n",
      "+--------------------+--------------------+------+----+\n",
      "only showing top 20 rows\n",
      "\n"
     ]
    }
   ],
   "source": [
    "HighestbyC.filter(col(\"cadenaComercial\").contains(\"SORIANA\")).show()"
   ]
  },
  {
   "cell_type": "markdown",
   "id": "1a159b8e",
   "metadata": {
    "papermill": {
     "duration": 0.360036,
     "end_time": "2021-10-03T04:03:53.655875",
     "exception": false,
     "start_time": "2021-10-03T04:03:53.295839",
     "status": "completed"
    },
    "tags": []
   },
   "source": [
    "## 4. Use the data to find an interesting fact."
   ]
  },
  {
   "cell_type": "code",
   "execution_count": 14,
   "id": "21edf617",
   "metadata": {
    "execution": {
     "iopub.execute_input": "2021-10-03T04:03:54.385102Z",
     "iopub.status.busy": "2021-10-03T04:03:54.384461Z",
     "iopub.status.idle": "2021-10-03T04:05:58.792313Z",
     "shell.execute_reply": "2021-10-03T04:05:58.791732Z",
     "shell.execute_reply.started": "2021-10-03T03:06:58.854646Z"
    },
    "papermill": {
     "duration": 124.774084,
     "end_time": "2021-10-03T04:05:58.792463",
     "exception": false,
     "start_time": "2021-10-03T04:03:54.018379",
     "status": "completed"
    },
    "tags": []
   },
   "outputs": [
    {
     "name": "stderr",
     "output_type": "stream",
     "text": [
      "[Stage 55:=======================================>              (147 + 4) / 200]\r"
     ]
    },
    {
     "name": "stdout",
     "output_type": "stream",
     "text": [
      "+--------------------+-----+\n",
      "|            producto|count|\n",
      "+--------------------+-----+\n",
      "|    TORTILLA DE MAIZ|   35|\n",
      "|  PAN BLANCO BOLILLO|   35|\n",
      "|            COLIFLOR|   34|\n",
      "|                FLAN|   34|\n",
      "|       GLIBENCLAMIDA|   34|\n",
      "|            LACTACYD|   34|\n",
      "|             ESTUFAS|   34|\n",
      "|         TELMISARTAN|   34|\n",
      "|           CONTROLIP|   34|\n",
      "|          AUTOPISTAS|   34|\n",
      "|             CEBOLLA|   34|\n",
      "|          PULMONAROM|   34|\n",
      "|        PRAVASTATINA|   34|\n",
      "|CAFE TOSTADO Y MO...|   34|\n",
      "|           BEDOYECTA|   34|\n",
      "|            AMARYL M|   34|\n",
      "|HUMULIN  N. INSUL...|   34|\n",
      "|            PANTOZOL|   34|\n",
      "|    SAN RAFAEL. REAL|   34|\n",
      "|            GARBANZA|   34|\n",
      "+--------------------+-----+\n",
      "only showing top 20 rows\n",
      "\n"
     ]
    },
    {
     "name": "stderr",
     "output_type": "stream",
     "text": [
      "                                                                                \r"
     ]
    }
   ],
   "source": [
    "# which is the product more monitored over all states\n",
    "p = df.select(\"estado\",\"producto\").distinct().groupBy(\"producto\").count()\\\n",
    "                                       .orderBy(\"count\", ascending=False)\n",
    "p.show()"
   ]
  },
  {
   "cell_type": "code",
   "execution_count": 15,
   "id": "8b0fc088",
   "metadata": {
    "execution": {
     "iopub.execute_input": "2021-10-03T04:05:59.583663Z",
     "iopub.status.busy": "2021-10-03T04:05:59.582993Z",
     "iopub.status.idle": "2021-10-03T04:08:00.918897Z",
     "shell.execute_reply": "2021-10-03T04:08:00.918220Z",
     "shell.execute_reply.started": "2021-10-02T16:00:07.080162Z"
    },
    "papermill": {
     "duration": 121.730646,
     "end_time": "2021-10-03T04:08:00.919107",
     "exception": false,
     "start_time": "2021-10-03T04:05:59.188461",
     "status": "completed"
    },
    "tags": []
   },
   "outputs": [
    {
     "name": "stderr",
     "output_type": "stream",
     "text": [
      "[Stage 57:==================================================>   (188 + 4) / 200]\r"
     ]
    },
    {
     "name": "stdout",
     "output_type": "stream",
     "text": [
      "+--------------------+-----+\n",
      "|              estado|count|\n",
      "+--------------------+-----+\n",
      "|              MÉXICO| 1068|\n",
      "|    DISTRITO FEDERAL| 1063|\n",
      "|             JALISCO| 1061|\n",
      "|            TLAXCALA| 1051|\n",
      "|           QUERÉTARO| 1049|\n",
      "|             TABASCO| 1046|\n",
      "|             YUCATÁN| 1046|\n",
      "|COAHUILA DE ZARAGOZA| 1045|\n",
      "|              PUEBLA| 1044|\n",
      "|          GUANAJUATO| 1044|\n",
      "| MICHOACÁN DE OCAMPO| 1042|\n",
      "|              SONORA| 1041|\n",
      "|              OAXACA| 1038|\n",
      "|             SINALOA| 1038|\n",
      "|          NUEVO LEÓN| 1038|\n",
      "|VERACRUZ DE IGNAC...| 1036|\n",
      "|        QUINTANA ROO| 1033|\n",
      "|             HIDALGO| 1032|\n",
      "|           ZACATECAS| 1030|\n",
      "|              COLIMA| 1016|\n",
      "+--------------------+-----+\n",
      "only showing top 20 rows\n",
      "\n"
     ]
    },
    {
     "name": "stderr",
     "output_type": "stream",
     "text": [
      "                                                                                \r"
     ]
    }
   ],
   "source": [
    "# which state has more products monitored \n",
    "p = df.select(\"estado\",\"producto\").distinct().groupBy(\"estado\").count()\\\n",
    "                                       .orderBy(\"count\", ascending=False)\n",
    "p.show()"
   ]
  },
  {
   "cell_type": "code",
   "execution_count": 16,
   "id": "bfcc59de",
   "metadata": {
    "execution": {
     "iopub.execute_input": "2021-10-03T04:08:01.770135Z",
     "iopub.status.busy": "2021-10-03T04:08:01.769460Z",
     "iopub.status.idle": "2021-10-03T04:29:38.608624Z",
     "shell.execute_reply": "2021-10-03T04:29:38.609642Z"
    },
    "papermill": {
     "duration": 1297.267142,
     "end_time": "2021-10-03T04:29:38.610044",
     "exception": false,
     "start_time": "2021-10-03T04:08:01.342902",
     "status": "completed"
    },
    "tags": []
   },
   "outputs": [
    {
     "name": "stderr",
     "output_type": "stream",
     "text": [
      "                                                                                \r"
     ]
    },
    {
     "data": {
      "text/html": [
       "<div>\n",
       "<style scoped>\n",
       "    .dataframe tbody tr th:only-of-type {\n",
       "        vertical-align: middle;\n",
       "    }\n",
       "\n",
       "    .dataframe tbody tr th {\n",
       "        vertical-align: top;\n",
       "    }\n",
       "\n",
       "    .dataframe thead th {\n",
       "        text-align: right;\n",
       "    }\n",
       "</style>\n",
       "<table border=\"1\" class=\"dataframe\">\n",
       "  <thead>\n",
       "    <tr style=\"text-align: right;\">\n",
       "      <th></th>\n",
       "      <th>producto</th>\n",
       "      <th>presentacion</th>\n",
       "      <th>marca</th>\n",
       "      <th>categoria</th>\n",
       "      <th>catalogo</th>\n",
       "      <th>precio</th>\n",
       "      <th>fechaRegistro</th>\n",
       "      <th>cadenaComercial</th>\n",
       "      <th>giro</th>\n",
       "      <th>nombreComercial</th>\n",
       "      <th>direccion</th>\n",
       "      <th>estado</th>\n",
       "      <th>municipio</th>\n",
       "      <th>latitud</th>\n",
       "      <th>longitud</th>\n",
       "    </tr>\n",
       "  </thead>\n",
       "  <tbody>\n",
       "    <tr>\n",
       "      <th>0</th>\n",
       "      <td>0</td>\n",
       "      <td>0</td>\n",
       "      <td>0</td>\n",
       "      <td>887338</td>\n",
       "      <td>228</td>\n",
       "      <td>20</td>\n",
       "      <td>0</td>\n",
       "      <td>1184</td>\n",
       "      <td>287</td>\n",
       "      <td>0</td>\n",
       "      <td>0</td>\n",
       "      <td>15054</td>\n",
       "      <td>15054</td>\n",
       "      <td>36814</td>\n",
       "      <td>36814</td>\n",
       "    </tr>\n",
       "  </tbody>\n",
       "</table>\n",
       "</div>"
      ],
      "text/plain": [
       "   producto  presentacion  marca  categoria  catalogo  precio  fechaRegistro  \\\n",
       "0         0             0      0     887338       228      20              0   \n",
       "\n",
       "   cadenaComercial  giro  nombreComercial  direccion  estado  municipio  \\\n",
       "0             1184   287                0          0   15054      15054   \n",
       "\n",
       "   latitud  longitud  \n",
       "0    36814     36814  "
      ]
     },
     "execution_count": 16,
     "metadata": {},
     "output_type": "execute_result"
    }
   ],
   "source": [
    "# missing values by column\n",
    "df.select([count(when(isnan(c) | col(c).isNull(), c)).alias(c) for c in df.columns]).toPandas()"
   ]
  },
  {
   "cell_type": "markdown",
   "id": "d5c7f8ac",
   "metadata": {
    "papermill": {
     "duration": 0.459045,
     "end_time": "2021-10-03T04:29:39.557105",
     "exception": false,
     "start_time": "2021-10-03T04:29:39.098060",
     "status": "completed"
    },
    "tags": []
   },
   "source": [
    "## 5. What are the lessons learned from this exercise?"
   ]
  },
  {
   "cell_type": "markdown",
   "id": "8d67c72a",
   "metadata": {
    "papermill": {
     "duration": 0.464563,
     "end_time": "2021-10-03T04:29:40.479292",
     "exception": false,
     "start_time": "2021-10-03T04:29:40.014729",
     "status": "completed"
    },
    "tags": []
   },
   "source": [
    "* Spark it is an excellent tool to work with big data\n",
    "* Pyspark is easy to use.\n",
    "* Missing Values  provides wrong values when you do not clean before. "
   ]
  },
  {
   "cell_type": "markdown",
   "id": "991b5d4a",
   "metadata": {
    "papermill": {
     "duration": 0.468318,
     "end_time": "2021-10-03T04:29:41.410245",
     "exception": false,
     "start_time": "2021-10-03T04:29:40.941927",
     "status": "completed"
    },
    "tags": []
   },
   "source": [
    "## 6. Can you identify other ways to approach this problem? Explain."
   ]
  },
  {
   "cell_type": "markdown",
   "id": "4f5d59d3",
   "metadata": {
    "papermill": {
     "duration": 0.46439,
     "end_time": "2021-10-03T04:29:42.400799",
     "exception": false,
     "start_time": "2021-10-03T04:29:41.936409",
     "status": "completed"
    },
    "tags": []
   },
   "source": [
    "It is a good dataset and It is possible to make predictions, or evaluate the data set like a time series to find out patterns or anomaly points and also it could  be  applied regression or classification algorithms and clustering.   "
   ]
  }
 ],
 "metadata": {
  "kernelspec": {
   "display_name": "Python 3",
   "language": "python",
   "name": "python3"
  },
  "language_info": {
   "codemirror_mode": {
    "name": "ipython",
    "version": 3
   },
   "file_extension": ".py",
   "mimetype": "text/x-python",
   "name": "python",
   "nbconvert_exporter": "python",
   "pygments_lexer": "ipython3",
   "version": "3.7.10"
  },
  "papermill": {
   "default_parameters": {},
   "duration": 2559.081295,
   "end_time": "2021-10-03T04:29:44.169842",
   "environment_variables": {},
   "exception": null,
   "input_path": "__notebook__.ipynb",
   "output_path": "__notebook__.ipynb",
   "parameters": {},
   "start_time": "2021-10-03T03:47:05.088547",
   "version": "2.3.3"
  }
 },
 "nbformat": 4,
 "nbformat_minor": 5
}
